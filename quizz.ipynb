{
 "cells": [
  {
   "cell_type": "code",
   "execution_count": 2,
   "metadata": {},
   "outputs": [
    {
     "name": "stdout",
     "output_type": "stream",
     "text": [
      "Combien de fois la France a gagné la coupe du monde ? 1\n",
      "Dommage ! Il te reste 2 chances\n",
      "Combien de fois la France a gagné la coupe du monde ? 2\n",
      "Quand a été fondé Apple ? 1976\n",
      "Qui a fondé SpaceX ? l\n",
      "Dommage ! Il te reste 1 chances\n",
      "Qui a fondé SpaceX ? elon musk\n",
      "Bravo ! Tu as gagné le quiz !\n"
     ]
    }
   ],
   "source": [
    "# Declare start_quizz function, set list of tuples (question, answer) and number of chances allowed\n",
    "# It will return you the result\n",
    "def start_quizz(questionary, nb_attempts_left):\n",
    "    for question_label, answer in questionnaire: \n",
    "        if nb_attempts_left > 0:\n",
    "            question1= input(question_label)\n",
    "            while question1 != answer:\n",
    "                nb_attempts_left -= 1\n",
    "                print(\"Dommage ! Il te reste {} chances\".format(nb_attempts_left))\n",
    "                if nb_attempts_left == 0:\n",
    "                    print(\"Oh non ! Tu as perdu le jeu...\")\n",
    "                    break\n",
    "                question1 = input(question_label)\n",
    "                #return nb_de_chances\n",
    "            #return nb_de_chances\n",
    "    if nb_attempts_left > 0:\n",
    "        print(\"Bravo ! Tu as gagné le quiz !\")\n",
    "\n",
    "#Set the number of attempts autorised and the list of (question, answer) you want to ask in your quizz\n",
    "nb_attempts_left = 3\n",
    "questionary = [\n",
    "    (\"Combien de fois la France a gagné la coupe du monde ? \", \"2\"),\n",
    "    (\"Quand a été fondé Apple ? \", \"1976\"),\n",
    "    (\"Qui a fondé SpaceX ? \", \"elon musk\")\n",
    "]\n",
    "\n",
    "start_quizz(questionary, nb_attempts_left)\n"
   ]
  },
  {
   "cell_type": "code",
   "execution_count": null,
   "metadata": {},
   "outputs": [],
   "source": []
  }
 ],
 "metadata": {
  "kernelspec": {
   "display_name": "Python 3",
   "language": "python",
   "name": "python3"
  },
  "language_info": {
   "codemirror_mode": {
    "name": "ipython",
    "version": 3
   },
   "file_extension": ".py",
   "mimetype": "text/x-python",
   "name": "python",
   "nbconvert_exporter": "python",
   "pygments_lexer": "ipython3",
   "version": "3.7.6"
  }
 },
 "nbformat": 4,
 "nbformat_minor": 4
}
