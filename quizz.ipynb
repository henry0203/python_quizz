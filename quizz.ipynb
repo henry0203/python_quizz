{
 "cells": [
  {
   "cell_type": "code",
   "execution_count": null,
   "metadata": {},
   "outputs": [],
   "source": [
    "# Declare function \n",
    "def quizz(questionnaire, nb_de_chances):\n",
    "    for question_label, answer in questionnaire: \n",
    "        if nb_de_chances > 0:\n",
    "            question1= input(question_label)\n",
    "            while question1 != answer:\n",
    "                nb_de_chances -= 1\n",
    "                print(\"Dommage ! Il te reste {} chances\".format(nb_de_chances))\n",
    "                if nb_de_chances == 0:\n",
    "                    print(\"Oh non ! Tu as perdu le jeu...\")\n",
    "                    break\n",
    "                question1 = input(question_label)\n",
    "                #return nb_de_chances\n",
    "            #return nb_de_chances\n",
    "    if nb_de_chances > 0:\n",
    "        print(\"Bravo ! Tu as gagné le quiz !\")\n",
    "\n",
    "nb_de_chances = 3\n",
    "questionnaire = [(\"Combien de fois la France a gagné la coupe du monde ? \", \"2\"),(\"Quand a été fondé Apple ? \", \"1976\"),(\"Qui a fondé SpaceX ? \", \"elon musk\")]\n",
    "\n",
    "question_dic(questionnaire, nb_de_chances)"
   ]
  }
 ],
 "metadata": {
  "kernelspec": {
   "display_name": "Python 3",
   "language": "python",
   "name": "python3"
  },
  "language_info": {
   "codemirror_mode": {
    "name": "ipython",
    "version": 3
   },
   "file_extension": ".py",
   "mimetype": "text/x-python",
   "name": "python",
   "nbconvert_exporter": "python",
   "pygments_lexer": "ipython3",
   "version": "3.7.6"
  }
 },
 "nbformat": 4,
 "nbformat_minor": 4
}
