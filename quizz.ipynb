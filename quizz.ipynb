{
 "cells": [
  {
   "cell_type": "code",
   "execution_count": 58,
   "metadata": {},
   "outputs": [
    {
     "name": "stdout",
     "output_type": "stream",
     "text": [
      "choisissez votre thème : ['jedha', 'culture']culture\n",
      "Voici les questions du qui\n",
      "Combien d'habitants y-a-t-il à Lyon ? (exprimer le résultat en milliers) 500\n",
      "Dans le classement des plus grandes villes de France, quelle est la place de Lyon ? 3\n",
      "Quel est le plus grand fleuve qui traverse Lyon ? rhone\n",
      "Bravo ! Tu as gagné le quiz et ton score est de 0 essai(s) utilisé(s) sur 3!\n"
     ]
    }
   ],
   "source": [
    "# Declare start_quizz function, set list of tuples (question, answer) and number of chances allowed\n",
    "# It will return you the result\n",
    "def start_quizz(questionary, nb_attempts_left):\n",
    "    print(\"Voici les questions du qui\")\n",
    "    for question_label, answer in questionary: \n",
    "        if nb_attempts_left > 0:\n",
    "            answer_user = input(question_label)\n",
    "            answer_user = answer_user.lower()\n",
    "            while answer_user != answer:\n",
    "                nb_attempts_left -= 1\n",
    "                print(\"Dommage ! Il te reste {} chances\".format(nb_attempts_left))\n",
    "                if nb_attempts_left == 0:\n",
    "                    print(\"Oh non ! Tu as perdu le jeu...\")\n",
    "                    break\n",
    "                answer_user = input(question_label)\n",
    "                answer_user = answer_user.lower()\n",
    "    if nb_attempts_left > 0:\n",
    "        print(\"Bravo ! Tu as gagné le quiz et ton score est de {} essai(s) utilisé(s) sur 3!\".format(3-nb_attempts_left)) \n",
    "\n",
    "              #Set the number of attempts autorised and the list of (question, answer) you want to ask in your quizz\n",
    "nb_attempts_left = 3\n",
    "questionary = {\n",
    "    \"jedha\": [\n",
    "    (\"Combien de fois la France a gagné la coupe du monde ? \", \"2\"),\n",
    "    (\"Quand a été fondé Apple ? \", \"1976\"),\n",
    "    (\"Qui a fondé SpaceX ? \", \"elon musk\") \n",
    "    ],\n",
    "    \"culture\": [\n",
    "    (\"Combien d'habitants y-a-t-il à Lyon ? (exprimer le résultat en milliers) \", \"500\"),\n",
    "    (\"Dans le classement des plus grandes villes de France, quelle est la place de Lyon ? \", \"3\"),\n",
    "    (\"Quel est le plus grand fleuve qui traverse Lyon ? \", \"rhone\") \n",
    "    ]\n",
    "}\n",
    "\n",
    "theme = input(\"choisissez votre thème : {}\".format(list(questionary.keys())))\n",
    "theme = theme.lower()\n",
    "start_quizz(questionary[theme], nb_attempts_left)\n"
   ]
  },
  {
   "cell_type": "code",
   "execution_count": null,
   "metadata": {},
   "outputs": [],
   "source": []
  },
  {
   "cell_type": "code",
   "execution_count": null,
   "metadata": {},
   "outputs": [],
   "source": []
  }
 ],
 "metadata": {
  "kernelspec": {
   "display_name": "Python 3",
   "language": "python",
   "name": "python3"
  },
  "language_info": {
   "codemirror_mode": {
    "name": "ipython",
    "version": 3
   },
   "file_extension": ".py",
   "mimetype": "text/x-python",
   "name": "python",
   "nbconvert_exporter": "python",
   "pygments_lexer": "ipython3",
   "version": "3.7.6"
  }
 },
 "nbformat": 4,
 "nbformat_minor": 4
}
